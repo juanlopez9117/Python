{
  "nbformat": 4,
  "nbformat_minor": 0,
  "metadata": {
    "colab": {
      "provenance": [],
      "authorship_tag": "ABX9TyPehtbbbq4OAvW1aqHjQuu1",
      "include_colab_link": true
    },
    "kernelspec": {
      "name": "python3",
      "display_name": "Python 3"
    },
    "language_info": {
      "name": "python"
    }
  },
  "cells": [
    {
      "cell_type": "markdown",
      "metadata": {
        "id": "view-in-github",
        "colab_type": "text"
      },
      "source": [
        "<a href=\"https://colab.research.google.com/github/juanlopez9117/Python/blob/main/Untitled1.ipynb\" target=\"_parent\"><img src=\"https://colab.research.google.com/assets/colab-badge.svg\" alt=\"Open In Colab\"/></a>"
      ]
    },
    {
      "cell_type": "code",
      "execution_count": 7,
      "metadata": {
        "id": "WKR35JVF1VL4",
        "colab": {
          "base_uri": "https://localhost:8080/"
        },
        "outputId": "160b7a30-1b70-4fc8-ef0f-514a8c7e953e"
      },
      "outputs": [
        {
          "output_type": "execute_result",
          "data": {
            "text/plain": [
              "{'name': 'Carter', 'number': '+1-617-495-1000'}"
            ]
          },
          "metadata": {},
          "execution_count": 7
        }
      ],
      "source": [
        "lista = [\"juan\", \"miguel\",\n",
        "         {\"name\": \"Carter\", \"number\": \"+1-617-495-1000\"},\n",
        "    {\"name\": \"David\", \"number\": \"+1-617-495-1000\"},\n",
        "    {\"name\": \"John\", \"number\": \"+1-949-468-2750\"}]\n",
        "lista[2]\n",
        "# se crea una lista con tres o mas elementos, pero el tercer elemento debe estar entre llaves para que sea un diccionario\n",
        "# se llama la lista y sin dejar espacio se abren corchetes y se pone el numero dos, que seria la posicion tres de la lista debido a que empieza a contar desde \"0\""
      ]
    },
    {
      "cell_type": "code",
      "source": [
        "#creamos una lista\n",
        "people = [\n",
        "    #creamos con corchetes un diccionario dentro de la lista\n",
        "    {\"name\": \"Carter\", \"number\": \"+1-617-495-1000\"},\n",
        "    {\"name\": \"David\", \"number\": \"+1-617-495-1000\"},\n",
        "    {\"name\": \"John\", \"number\": \"+1-949-468-2750\"}\n",
        "]\n",
        "\n",
        "#se le pide al usuario su nombre mediante un input y se guarda en la variable \"name\"\n",
        "name = input(\"Name: \")\n",
        "\n",
        "#recorremos la lista con el ciclo for y declaramos \"person\"\n",
        "for person in people:\n",
        "    # A la variable \"person\" la cual le asignamos la key \"name\" del diccionario la comparamos el valor del input anterior \"name\"\n",
        "    if person[\"name\"] == name:\n",
        "        # aqui se esta trayendo el numero del diccionario\n",
        "        number = person[\"number\"]\n",
        "        # en caso tal de que sea correcto se imprime \"found y el numero que corresponda\"\n",
        "        print(f\"Found {number}\")\n",
        "        # se da fin a la primera opcion del if\n",
        "        break\n",
        "# si la opcion anterio no se cumple ingresa directamente al \"else\" e imprime el mensaje de error\n",
        "else:\n",
        "    print(\"Not found\")"
      ],
      "metadata": {
        "colab": {
          "base_uri": "https://localhost:8080/"
        },
        "id": "w0c8JTDR78Uv",
        "outputId": "ae4dbd7d-a4c9-4d20-80bd-e98e33b60c68"
      },
      "execution_count": 11,
      "outputs": [
        {
          "output_type": "stream",
          "name": "stdout",
          "text": [
            "Name: John\n",
            "Found +1-949-468-2750\n"
          ]
        }
      ]
    },
    {
      "cell_type": "code",
      "source": [
        "# los loopers o bucles son estructuras que permiten ejecutar repetidamente un bloque de código.\n",
        "numeros = [1, 2, 3, 4, 5]\n",
        "\n",
        "for numero in numeros:\n",
        "    print(numero * 2)\n",
        "#el resultado mostrado se obtiene debido a que recorremos la lista multiplicando por dos el valor original \"(numero * 2)\""
      ],
      "metadata": {
        "colab": {
          "base_uri": "https://localhost:8080/"
        },
        "id": "gRejr7xwCJXo",
        "outputId": "a1240e4b-d6c9-4024-e13d-c43611392492"
      },
      "execution_count": 13,
      "outputs": [
        {
          "output_type": "stream",
          "name": "stdout",
          "text": [
            "2\n",
            "4\n",
            "6\n",
            "8\n",
            "10\n"
          ]
        }
      ]
    }
  ]
}